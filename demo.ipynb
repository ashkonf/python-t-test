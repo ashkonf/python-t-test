{
 "cells": [
  {
   "cell_type": "markdown",
   "metadata": {},
   "source": [
    "# Python T-Test and Confidence Interval Estimation Demo\n",
    "\n",
    "This notebook demonstrates the usage of the Python T-Test library for statistical analysis.\n",
    "\n",
    "## Installation\n",
    "\n",
    "First, make sure you have the required dependencies installed:\n",
    "\n",
    "```bash\n",
    "uv sync\n",
    "```"
   ]
  },
  {
   "cell_type": "code",
   "execution_count": null,
   "metadata": {},
   "outputs": [],
   "source": [
    "import random\n",
    "import numpy as np\n",
    "import matplotlib.pyplot as plt\n",
    "import sys\n",
    "sys.path.append('.')\n",
    "from ttest import calculate_confidence_interval, perform_t_test\n",
    "\n",
    "# Set random seed for reproducibility\n",
    "random.seed(1234)\n",
    "np.random.seed(1234)"
   ]
  },
  {
   "cell_type": "markdown",
   "metadata": {},
   "source": [
    "## Basic Usage Example\n",
    "\n",
    "Let's start with a simple example comparing two groups of data."
   ]
  },
  {
   "cell_type": "code",
   "execution_count": null,
   "metadata": {},
   "outputs": [],
   "source": [
    "# Generate sample data\n",
    "points1 = random.sample(range(10, 30), 10)\n",
    "points2 = random.sample(range(15, 35), 10)\n",
    "\n",
    "print(\"Group 1 data:\", points1)\n",
    "print(\"Group 2 data:\", points2)\n",
    "print(\"Group 1 mean:\", np.mean(points1))\n",
    "print(\"Group 2 mean:\", np.mean(points2))"
   ]
  },
  {
   "cell_type": "markdown",
   "metadata": {},
   "source": [
    "### Performing a T-Test\n",
    "\n",
    "The t-test helps us determine if there's a statistically significant difference between the means of two groups."
   ]
  },
  {
   "cell_type": "code",
   "execution_count": null,
   "metadata": {},
   "outputs": [],
   "source": [
    "# Perform two-sided t-test\n",
    "p_value = perform_t_test(points1, points2)\n",
    "print(f\"P-value for two-sided t-test: {p_value:.6f}\")\n",
    "\n",
    "# Interpret the result\n",
    "alpha = 0.05\n",
    "if p_value < alpha:\n",
    "    print(f\"Result: Statistically significant difference (p < {alpha})\")\n",
    "else:\n",
    "    print(f\"Result: No statistically significant difference (p >= {alpha})\")"
   ]
  },
  {
   "cell_type": "code",
   "execution_count": null,
   "metadata": {},
   "outputs": [],
   "source": [
    "# Perform one-sided t-test\n",
    "p_value_one_sided = perform_t_test(points1, points2, two_sided=False)\n",
    "print(f\"P-value for one-sided t-test: {p_value_one_sided:.6f}\")\n",
    "print(\"One-sided test checks if Group 1 mean > Group 2 mean\")"
   ]
  },
  {
   "cell_type": "markdown",
   "metadata": {},
   "source": [
    "### Calculating Confidence Intervals\n",
    "\n",
    "Confidence intervals give us a range of plausible values for the population mean."
   ]
  },
  {
   "cell_type": "code",
   "execution_count": null,
   "metadata": {},
   "outputs": [],
   "source": [
    "# Calculate 95% confidence interval for Group 1\n",
    "ci_95 = calculate_confidence_interval(points1, 0.95)\n",
    "print(f\"95% Confidence Interval for Group 1: [{ci_95[0]:.2f}, {ci_95[1]:.2f}]\")\n",
    "\n",
    "# Calculate 90% confidence interval for Group 1\n",
    "ci_90 = calculate_confidence_interval(points1, 0.90)\n",
    "print(f\"90% Confidence Interval for Group 1: [{ci_90[0]:.2f}, {ci_90[1]:.2f}]\")\n",
    "\n",
    "print(f\"\\nGroup 1 sample mean: {np.mean(points1):.2f}\")\n",
    "print(\"Notice how the 90% CI is narrower than the 95% CI\")"
   ]
  },
  {
   "cell_type": "markdown",
   "metadata": {},
   "source": [
    "## Visualization\n",
    "\n",
    "Let's visualize our data and the confidence intervals."
   ]
  },
  {
   "cell_type": "code",
   "execution_count": null,
   "metadata": {},
   "outputs": [],
   "source": [
    "# Create visualization\n",
    "fig, (ax1, ax2) = plt.subplots(1, 2, figsize=(12, 5))\n",
    "\n",
    "# Plot 1: Box plots of the two groups\n",
    "ax1.boxplot([points1, points2], labels=['Group 1', 'Group 2'])\n",
    "ax1.set_title('Distribution Comparison')\n",
    "ax1.set_ylabel('Values')\n",
    "ax1.grid(True, alpha=0.3)\n",
    "\n",
    "# Plot 2: Confidence intervals\n",
    "groups = ['Group 1', 'Group 2']\n",
    "means = [np.mean(points1), np.mean(points2)]\n",
    "ci_95_group1 = calculate_confidence_interval(points1, 0.95)\n",
    "ci_95_group2 = calculate_confidence_interval(points2, 0.95)\n",
    "\n",
    "errors = [\n",
    "    [means[0] - ci_95_group1[0], means[1] - ci_95_group2[0]],\n",
    "    [ci_95_group1[1] - means[0], ci_95_group2[1] - means[1]]\n",
    "]\n",
    "\n",
    "ax2.errorbar(groups, means, yerr=errors, fmt='o', capsize=5, capthick=2)\n",
    "ax2.set_title('95% Confidence Intervals')\n",
    "ax2.set_ylabel('Mean Values')\n",
    "ax2.grid(True, alpha=0.3)\n",
    "\n",
    "plt.tight_layout()\n",
    "plt.show()\n",
    "\n",
    "print(f\"T-test p-value: {p_value:.6f}\")\n",
    "print(f\"Interpretation: {'Significant difference' if p_value < 0.05 else 'No significant difference'} between groups\")"
   ]
  },
  {
   "cell_type": "markdown",
   "metadata": {},
   "source": [
    "## Real-World Example: A/B Testing\n",
    "\n",
    "Let's simulate an A/B test scenario where we're comparing conversion rates between two website designs."
   ]
  },
  {
   "cell_type": "code",
   "execution_count": null,
   "metadata": {},
   "outputs": [],
   "source": [
    "# Simulate A/B test data\n",
    "# Design A: baseline conversion times (in seconds)\n",
    "design_a_times = np.random.normal(45, 8, 50)  # mean=45s, std=8s, n=50\n",
    "# Design B: improved conversion times\n",
    "design_b_times = np.random.normal(42, 7, 50)  # mean=42s, std=7s, n=50\n",
    "\n",
    "print(\"A/B Test: Website Conversion Times\")\n",
    "print(f\"Design A - Mean: {np.mean(design_a_times):.2f}s, Std: {np.std(design_a_times):.2f}s\")\n",
    "print(f\"Design B - Mean: {np.mean(design_b_times):.2f}s, Std: {np.std(design_b_times):.2f}s\")\n",
    "\n",
    "# Perform statistical test\n",
    "ab_p_value = perform_t_test(design_a_times, design_b_times)\n",
    "print(f\"\\nT-test p-value: {ab_p_value:.6f}\")\n",
    "\n",
    "# Calculate confidence intervals\n",
    "ci_a = calculate_confidence_interval(design_a_times)\n",
    "ci_b = calculate_confidence_interval(design_b_times)\n",
    "\n",
    "print(f\"\\nDesign A 95% CI: [{ci_a[0]:.2f}, {ci_a[1]:.2f}] seconds\")\n",
    "print(f\"Design B 95% CI: [{ci_b[0]:.2f}, {ci_b[1]:.2f}] seconds\")\n",
    "\n",
    "# Business interpretation\n",
    "if ab_p_value < 0.05:\n",
    "    improvement = np.mean(design_a_times) - np.mean(design_b_times)\n",
    "    print(f\"\\n\u2705 RECOMMENDATION: Deploy Design B\")\n",
    "    print(f\"   Statistically significant improvement of {improvement:.2f} seconds\")\n",
    "else:\n",
    "    print(f\"\\n\u274c RECOMMENDATION: Keep current design\")\n",
    "    print(f\"   No statistically significant difference detected\")"
   ]
  },
  {
   "cell_type": "markdown",
   "metadata": {},
   "source": [
    "## Summary\n",
    "\n",
    "This notebook demonstrated:\n",
    "\n",
    "1. **T-tests**: Compare means between two groups\n",
    "   - Two-sided: tests if means are different\n",
    "   - One-sided: tests if one mean is greater than another\n",
    "\n",
    "2. **Confidence Intervals**: Estimate range of plausible values for population mean\n",
    "   - Higher confidence levels \u2192 wider intervals\n",
    "   - Larger sample sizes \u2192 narrower intervals\n",
    "\n",
    "3. **Practical Applications**: A/B testing, quality control, research studies\n",
    "\n",
    "4. **Statistical Power**: Larger samples help detect smaller differences\n",
    "\n",
    "### Key Takeaways:\n",
    "- Always visualize your data before testing\n",
    "- Consider practical significance alongside statistical significance\n",
    "- Larger sample sizes increase statistical power\n",
    "- Confidence intervals provide more information than just p-values"
   ]
  }
 ],
 "metadata": {
  "kernelspec": {
   "display_name": "Python 3",
   "language": "python",
   "name": "python3"
  },
  "language_info": {
   "codemirror_mode": {
    "name": "ipython",
    "version": 3
   },
   "file_extension": ".py",
   "mimetype": "text/x-python",
   "name": "python",
   "nbconvert_exporter": "python",
   "pygments_lexer": "ipython3",
   "version": "3.8.0"
  }
 },
 "nbformat": 4,
 "nbformat_minor": 4
}
